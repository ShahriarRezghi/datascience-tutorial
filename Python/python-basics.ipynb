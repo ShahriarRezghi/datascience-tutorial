{
 "cells": [
  {
   "cell_type": "markdown",
   "id": "23322c5d",
   "metadata": {},
   "source": [
    "# Jupyter Basics\n",
    "+ Install Anaconda: https://www.anaconda.com/products/distribution\n",
    "+ Run Anaconda\n",
    "+ Open Jupyter\n",
    "+ Create Cells\n",
    "+ Run Cells\n",
    "+ Markdown Cells"
   ]
  },
  {
   "cell_type": "markdown",
   "id": "842730ab",
   "metadata": {},
   "source": [
    "# Print & Variables\n",
    "Python allows us to hold information as variables. Variables can have different types. Examples of variable initialization are shown below. Also, in Python you can print variables to the screen using the `print(...)` command."
   ]
  },
  {
   "cell_type": "code",
   "execution_count": 1,
   "id": "f8fa9e6a",
   "metadata": {},
   "outputs": [
    {
     "name": "stdout",
     "output_type": "stream",
     "text": [
      "None 10 10.01 True Hello\n",
      "<class 'NoneType'> <class 'int'> <class 'float'> <class 'bool'> <class 'str'>\n"
     ]
    }
   ],
   "source": [
    "my_void = None\n",
    "my_integer = 10\n",
    "my_float = 10.01\n",
    "my_boolean = True\n",
    "my_string = \"Hello\"\n",
    "\n",
    "print(my_void, my_integer, my_float, my_boolean, my_string)\n",
    "print(type(my_void), type(my_integer), type(my_float), type(my_boolean), type(my_string))"
   ]
  },
  {
   "cell_type": "markdown",
   "id": "24597b57",
   "metadata": {},
   "source": [
    "# String Formatting\n",
    "Sometimes you need to put processed information inside a string you want to print. You can do that py Python's f-strings. To do this, you put an `f` before the string and put values inside braces inside the string. If you actually want to print braces, you can wrap them inside another brace."
   ]
  },
  {
   "cell_type": "code",
   "execution_count": 2,
   "id": "4a93741d",
   "metadata": {},
   "outputs": [
    {
     "name": "stdout",
     "output_type": "stream",
     "text": [
      "My Int: 10, My Float: 10.01, Just Brace: {}\n"
     ]
    }
   ],
   "source": [
    "my_fstring = f'My Int: {my_integer}, My Float: {my_float}, Just Brace: {{}}'\n",
    "print(my_fstring)"
   ]
  },
  {
   "cell_type": "markdown",
   "id": "c10c56d4",
   "metadata": {},
   "source": [
    "# Conditions\n",
    "Sometimes you need to perform different operations based on the value of the processed information. You can do that by using the `if, elif, else` commands. When you have to do many checks, you can use the `match, case` commands to have a more compact and readable code. You can also combine different conditions using `and, or` commands when you need a more complicated decision process."
   ]
  },
  {
   "cell_type": "code",
   "execution_count": 3,
   "id": "de772ce5",
   "metadata": {},
   "outputs": [
    {
     "name": "stdout",
     "output_type": "stream",
     "text": [
      "Hooray!\n"
     ]
    }
   ],
   "source": [
    "if 1 < 2:\n",
    "    print(\"Hooray!\")\n",
    "else:\n",
    "    print(\"Boo!\")"
   ]
  },
  {
   "cell_type": "code",
   "execution_count": 4,
   "id": "c4343282",
   "metadata": {},
   "outputs": [
    {
     "name": "stdout",
     "output_type": "stream",
     "text": [
      "Matched Upper Case!\n"
     ]
    }
   ],
   "source": [
    "if my_string == \"hello\":\n",
    "    print(\"Matched Lower Case!\")\n",
    "elif my_string == \"Hello\":\n",
    "    print(\"Matched Upper Case!\")\n",
    "else:\n",
    "    print(\"Did not Match!\")"
   ]
  },
  {
   "cell_type": "code",
   "execution_count": 5,
   "id": "9e60e308",
   "metadata": {},
   "outputs": [
    {
     "name": "stdout",
     "output_type": "stream",
     "text": [
      "My Int is 10!\n"
     ]
    }
   ],
   "source": [
    "match my_integer:\n",
    "    case 8:\n",
    "        print(\"My Int is 8!\")\n",
    "    case 9:\n",
    "        print(\"My Int is 9!\")\n",
    "    case 10:\n",
    "        print(\"My Int is 10!\")\n",
    "    case 11:\n",
    "        print(\"My Int is 11!\")\n",
    "    case 12:\n",
    "        print(\"My Int is 12!\")\n",
    "    case _:\n",
    "        print(\"Don't know what my int is!\")"
   ]
  },
  {
   "cell_type": "code",
   "execution_count": 6,
   "id": "29e3a714",
   "metadata": {},
   "outputs": [
    {
     "name": "stdout",
     "output_type": "stream",
     "text": [
      "or worked!\n",
      "complex logic didn't work!\n"
     ]
    }
   ],
   "source": [
    "if my_integer == 10 or my_float == 10.01:\n",
    "    print(\"or worked!\")\n",
    "else:\n",
    "    print(\"or didn't work!\")\n",
    "\n",
    "if my_string == \"hello\" and (my_integer == 10 or my_float == 10.01):\n",
    "    print(\"complex logic worked!\")\n",
    "else:\n",
    "    print(\"complex logic didn't work!\")"
   ]
  },
  {
   "cell_type": "markdown",
   "id": "7d029771",
   "metadata": {},
   "source": [
    "# Tuples & Lists & Dictionaries\n",
    "There are situations when you need to have a list of variables. You can use lists, tuples, or dictionaries. Lists are arrays of variables that you can add elements to or remove them from. Tuples are arrats of variables that can't be changed after creation. Dictionaries map keys to values. You can look up a value associated with a key in a dictionary."
   ]
  },
  {
   "cell_type": "code",
   "execution_count": 7,
   "id": "8f15a8a8",
   "metadata": {},
   "outputs": [
    {
     "name": "stdout",
     "output_type": "stream",
     "text": [
      "[10, 10.01, 'Hello', True] (10, 10.01, 'Hello', True) {1: 'One', 2: 'Two', 3: 'Three'}\n",
      "<class 'list'> <class 'tuple'> <class 'dict'>\n"
     ]
    }
   ],
   "source": [
    "my_array = [10, 10.01, \"Hello\", True]\n",
    "my_tuple = (10, 10.01, \"Hello\", True)\n",
    "my_map = {1:\"One\", 2:\"Two\", 3:\"Three\"}\n",
    "\n",
    "print(my_array, my_tuple, my_map)\n",
    "print(type(my_array), type(my_tuple), type(my_map))"
   ]
  },
  {
   "cell_type": "code",
   "execution_count": 8,
   "id": "97988888",
   "metadata": {},
   "outputs": [
    {
     "name": "stdout",
     "output_type": "stream",
     "text": [
      "[10, 10.01, 'Hello', True, [10, 10.01, 'Hello', True], (10, 10.01, 'Hello', True), {1: 'One', 2: 'Two', 3: 'Three'}]\n"
     ]
    }
   ],
   "source": [
    "my_array = [10, 10.01, \"Hello\", True, my_array, my_tuple, my_map]\n",
    "print(my_array)"
   ]
  },
  {
   "cell_type": "code",
   "execution_count": 9,
   "id": "e7c9d0cc",
   "metadata": {},
   "outputs": [
    {
     "name": "stdout",
     "output_type": "stream",
     "text": [
      "My array contains 10\n",
      "['First', 10, 10.01, 'Hello', True, [10, 10.01, 'Hello', True], (10, 10.01, 'Hello', True), {1: 'One', 2: 'Two', 3: 'Three'}, 'Last']\n"
     ]
    }
   ],
   "source": [
    "if 10 in my_array:\n",
    "    print(\"My array contains 10\")\n",
    "else:\n",
    "    print(\"My array doesn't contain 10\")\n",
    "    \n",
    "my_array.append(\"Last\")\n",
    "my_array.insert(0, \"First\")\n",
    "print(my_array)"
   ]
  },
  {
   "cell_type": "markdown",
   "id": "6ab020d9",
   "metadata": {},
   "source": [
    "# Loops\n",
    "Sometimes you need to perform the same operation on a large number of variables. `for` loops are designed for this purpose. You can iterate on indices with `range` function, or you can iterate over lists or tuples or maps."
   ]
  },
  {
   "cell_type": "code",
   "execution_count": 10,
   "id": "29c96b0e",
   "metadata": {},
   "outputs": [
    {
     "name": "stdout",
     "output_type": "stream",
     "text": [
      "0, 1, 2, 3, 4, \n",
      "2, 3, 4, 5, 6, \n",
      "1, 3, 5, 7, 9, \n",
      "10, 8, 6, 4, 2, \n"
     ]
    }
   ],
   "source": [
    "for i in range(5):\n",
    "    print(f'{i}, ', end='')\n",
    "print()\n",
    "\n",
    "for i in range(2, 7):\n",
    "    print(f'{i}, ', end='')\n",
    "print()\n",
    "\n",
    "for i in range(1, 10, 2):\n",
    "    print(f'{i}, ', end='')\n",
    "print()\n",
    "\n",
    "for i in range(10, 1, -2):\n",
    "    print(f'{i}, ', end='')\n",
    "print()"
   ]
  },
  {
   "cell_type": "code",
   "execution_count": 11,
   "id": "b532d08f",
   "metadata": {},
   "outputs": [
    {
     "name": "stdout",
     "output_type": "stream",
     "text": [
      "2\n",
      "3\n",
      "1\n",
      "\n",
      "First\n",
      "10\n",
      "10.01\n",
      "Hello\n",
      "True\n",
      "[10, 10.01, 'Hello', True]\n",
      "(10, 10.01, 'Hello', True)\n",
      "{1: 'One', 2: 'Two', 3: 'Three'}\n",
      "Last\n",
      "\n",
      "0 First\n",
      "1 10\n",
      "2 10.01\n",
      "3 Hello\n",
      "4 True\n",
      "5 [10, 10.01, 'Hello', True]\n",
      "6 (10, 10.01, 'Hello', True)\n",
      "7 {1: 'One', 2: 'Two', 3: 'Three'}\n",
      "8 Last\n",
      "\n",
      "1 One\n",
      "2 Two\n",
      "3 Three\n"
     ]
    }
   ],
   "source": [
    "for item in [2, 3, 1]:\n",
    "    print(item)\n",
    "print()\n",
    "\n",
    "for item in my_array:\n",
    "    print(item)\n",
    "print()\n",
    "\n",
    "for i, item in enumerate(my_array):\n",
    "    print(i, item)\n",
    "print()    \n",
    "\n",
    "for first, second in zip([1, 2, 3], [\"One\", \"Two\", \"Three\"]):\n",
    "    print(first, second)"
   ]
  },
  {
   "cell_type": "markdown",
   "id": "56e63e86",
   "metadata": {},
   "source": [
    "# Functions\n",
    "When you need to isolate a task that you want to perform, you can put them inside functions. Functions take can take multiple inputs and return multiple outputs. If more than one output is returned, then the output variables will be returned inside a tuple."
   ]
  },
  {
   "cell_type": "code",
   "execution_count": 12,
   "id": "d9e234cf",
   "metadata": {},
   "outputs": [
    {
     "name": "stdout",
     "output_type": "stream",
     "text": [
      "3\n",
      "1 2 3\n",
      "None\n",
      "(10, 10.01, 'Hello')\n"
     ]
    }
   ],
   "source": [
    "def my_sum(A, B):\n",
    "    return A + B\n",
    "\n",
    "def my_print(A, B, C):\n",
    "    print(A, B, C)\n",
    "    \n",
    "def my_unbound(*args):\n",
    "    print(args)\n",
    "\n",
    "result = my_sum(1, 2)\n",
    "print(result)\n",
    "\n",
    "result = my_print(1, 2, 3)\n",
    "print(result)\n",
    "\n",
    "my_unbound(10, 10.01, \"Hello\")"
   ]
  },
  {
   "cell_type": "markdown",
   "id": "f56445af",
   "metadata": {},
   "source": [
    "# Pip Basics\n",
    "+ Search for a package: On the website: https://pypi.org/\n",
    "+ Install the package: `pip install numpy`\n",
    "+ Remove the package: `pip uninstall numpy`\n",
    "+ Upgrade package: `pip install numpy --upgrade`"
   ]
  }
 ],
 "metadata": {
  "kernelspec": {
   "display_name": "Python 3 (ipykernel)",
   "language": "python",
   "name": "python3"
  },
  "language_info": {
   "codemirror_mode": {
    "name": "ipython",
    "version": 3
   },
   "file_extension": ".py",
   "mimetype": "text/x-python",
   "name": "python",
   "nbconvert_exporter": "python",
   "pygments_lexer": "ipython3",
   "version": "3.9.13"
  }
 },
 "nbformat": 4,
 "nbformat_minor": 5
}
