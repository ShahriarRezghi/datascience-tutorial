{
 "cells": [
  {
   "cell_type": "markdown",
   "id": "b5b1f0eb",
   "metadata": {},
   "source": [
    "# Numpy\n",
    "+ Supports multi-dimensional arrays\n",
    "+ Installation: `pip install numpy`\n",
    "+ Usage: `import numpy as np`"
   ]
  },
  {
   "cell_type": "code",
   "execution_count": 1,
   "id": "13641a9c",
   "metadata": {},
   "outputs": [],
   "source": [
    "import numpy as np\n",
    "from copy import deepcopy"
   ]
  },
  {
   "cell_type": "markdown",
   "id": "0e2a864a",
   "metadata": {},
   "source": [
    "# Multi-dimensional Arrays"
   ]
  },
  {
   "cell_type": "code",
   "execution_count": 2,
   "id": "3b27bb0e",
   "metadata": {},
   "outputs": [
    {
     "name": "stdout",
     "output_type": "stream",
     "text": [
      "0 [0, 1]\n",
      "1 [[0, 1], [2, 3]]\n",
      "5 [[[0, 1], [2, 3]], [[4, 5], [6, 7]]]\n"
     ]
    }
   ],
   "source": [
    "my_array = [0, 1]\n",
    "print(my_array[0], my_array)\n",
    "\n",
    "my_array = [[0, 1], [2, 3]]\n",
    "print(my_array[0][1], my_array)\n",
    "\n",
    "my_array = [[[0, 1], [2, 3]], [[4, 5], [6, 7]]]\n",
    "print(my_array[1][0][1], my_array)"
   ]
  },
  {
   "cell_type": "code",
   "execution_count": 3,
   "id": "bbc6dc81",
   "metadata": {},
   "outputs": [
    {
     "name": "stdout",
     "output_type": "stream",
     "text": [
      "int64 (2,) 0\n",
      "[0 1]\n",
      "\n",
      "int64 (2, 2) 1\n",
      "[[0 1]\n",
      " [2 3]]\n",
      "\n",
      "int64 (2, 2, 2) 5\n",
      "[[[0 1]\n",
      "  [2 3]]\n",
      "\n",
      " [[4 5]\n",
      "  [6 7]]]\n",
      "\n"
     ]
    }
   ],
   "source": [
    "my_array = np.array([0, 1])\n",
    "print(my_array.dtype, my_array.shape, my_array[0])\n",
    "print(my_array); print()\n",
    "\n",
    "my_array = np.array([[0, 1], [2, 3]])\n",
    "print(my_array.dtype, my_array.shape, my_array[0, 1])\n",
    "print(my_array); print()\n",
    "\n",
    "my_array = np.array([[[0, 1], [2, 3]], [[4, 5], [6, 7]]])\n",
    "print(my_array.dtype, my_array.shape, my_array[1, 0, 1])\n",
    "print(my_array); print()"
   ]
  },
  {
   "cell_type": "markdown",
   "id": "0dac2f27",
   "metadata": {},
   "source": [
    "# Reshaping & Type Conversion"
   ]
  },
  {
   "cell_type": "code",
   "execution_count": 4,
   "id": "c1c4009f",
   "metadata": {},
   "outputs": [
    {
     "name": "stdout",
     "output_type": "stream",
     "text": [
      "Before Conversion: int64\n",
      "After Conversion float64\n",
      "Before Reshaping: (2, 2, 2)\n",
      "After Reshaping: (8,)\n",
      "Final Array: [0. 1. 2. 3. 4. 5. 6. 7.]\n"
     ]
    }
   ],
   "source": [
    "my_array = np.array([[[0, 1], [2, 3]], [[4, 5], [6, 7]]])\n",
    "print('Before Conversion:', my_array.dtype)\n",
    "\n",
    "my_array = my_array.astype(float)\n",
    "print('After Conversion', my_array.dtype)\n",
    "\n",
    "print('Before Reshaping:', my_array.shape)\n",
    "my_array = my_array.reshape(8) # or .reshape(-1)\n",
    "print('After Reshaping:', my_array.shape)\n",
    "print('Final Array:', my_array)"
   ]
  },
  {
   "cell_type": "markdown",
   "id": "77098521",
   "metadata": {},
   "source": [
    "# Indexing"
   ]
  },
  {
   "cell_type": "code",
   "execution_count": 5,
   "id": "2fcd5f4e",
   "metadata": {},
   "outputs": [
    {
     "name": "stdout",
     "output_type": "stream",
     "text": [
      "[[0 1]\n",
      " [2 3]]\n",
      "\n",
      "[0 1]\n",
      "\n",
      "0\n",
      "\n",
      "[[0 1]\n",
      " [4 5]]\n",
      "\n",
      "[[0 2]\n",
      " [4 6]]\n",
      "\n",
      "[[[ True  True]\n",
      "  [ True  True]]\n",
      "\n",
      " [[ True False]\n",
      "  [False False]]]\n",
      "\n",
      "[0 1 2 3 4]\n",
      "\n",
      "[[[0 1]\n",
      "  [2 3]]\n",
      "\n",
      " [[0 1]\n",
      "  [2 3]]]\n"
     ]
    }
   ],
   "source": [
    "my_array = np.array([[[0, 1], [2, 3]], [[4, 5], [6, 7]]])\n",
    "print(my_array[0])\n",
    "print()\n",
    "\n",
    "print(my_array[0, 0])\n",
    "print()\n",
    "\n",
    "print(my_array[0, 0, 0])\n",
    "print()\n",
    "\n",
    "print(my_array[:, 0])\n",
    "print()\n",
    "\n",
    "print(my_array[:, :, 0])\n",
    "print()\n",
    "\n",
    "print(my_array < 5)\n",
    "print()\n",
    "\n",
    "print(my_array[my_array < 5])\n",
    "print()\n",
    "\n",
    "print(my_array[[0, 0]])"
   ]
  },
  {
   "cell_type": "markdown",
   "id": "4ae9979a",
   "metadata": {},
   "source": [
    "# Unary Operations"
   ]
  },
  {
   "cell_type": "code",
   "execution_count": 6,
   "id": "158c248f",
   "metadata": {},
   "outputs": [
    {
     "name": "stdout",
     "output_type": "stream",
     "text": [
      "[[ 0 -1]\n",
      " [-2 -3]]\n",
      "\n",
      "[[0.         0.84147098]\n",
      " [0.90929743 0.14112001]]\n",
      "\n",
      "[[0 1]\n",
      " [2 3]]\n"
     ]
    }
   ],
   "source": [
    "my_array = np.array([[0, 1], [2, 3]])\n",
    "print(-my_array)\n",
    "print()\n",
    "\n",
    "print(np.sin(my_array))\n",
    "print()\n",
    "\n",
    "print(my_array)"
   ]
  },
  {
   "cell_type": "markdown",
   "id": "26fdbfeb",
   "metadata": {},
   "source": [
    "# Binary Operations"
   ]
  },
  {
   "cell_type": "code",
   "execution_count": 7,
   "id": "f2e51e2b",
   "metadata": {},
   "outputs": [
    {
     "name": "stdout",
     "output_type": "stream",
     "text": [
      "[[0 2]\n",
      " [4 6]]\n",
      "\n",
      "[[2 3]\n",
      " [4 5]]\n",
      "\n",
      "[[0 2]\n",
      " [4 6]]\n",
      "\n",
      "[[1 1]\n",
      " [3 3]]\n"
     ]
    }
   ],
   "source": [
    "my_array = np.array([[0, 1], [2, 3]])\n",
    "\n",
    "print(my_array * 2)\n",
    "print()\n",
    "\n",
    "print(my_array + 2)\n",
    "print()\n",
    "\n",
    "print(my_array + my_array)\n",
    "print()\n",
    "\n",
    "print(my_array + [[1, 0], [1, 0]])"
   ]
  },
  {
   "cell_type": "markdown",
   "id": "8b1a67ff",
   "metadata": {},
   "source": [
    "# Reduction Operations"
   ]
  },
  {
   "cell_type": "code",
   "execution_count": 8,
   "id": "68e19fb8",
   "metadata": {},
   "outputs": [
    {
     "name": "stdout",
     "output_type": "stream",
     "text": [
      "6\n",
      "\n",
      "[2 4]\n",
      "\n",
      "[1 5]\n",
      "\n"
     ]
    }
   ],
   "source": [
    "my_array = np.array([[0, 1], [2, 3]])\n",
    "\n",
    "print(my_array.sum())\n",
    "print()\n",
    "\n",
    "print(my_array.sum(axis=0))\n",
    "print()\n",
    "\n",
    "print(my_array.sum(axis=1))\n",
    "print()"
   ]
  },
  {
   "cell_type": "markdown",
   "id": "5419d16c",
   "metadata": {},
   "source": [
    "# View vs Copy"
   ]
  },
  {
   "cell_type": "code",
   "execution_count": 9,
   "id": "ed9d09cb",
   "metadata": {},
   "outputs": [
    {
     "name": "stdout",
     "output_type": "stream",
     "text": [
      "[10  1]\n",
      "[[10  1]\n",
      " [ 2  3]]\n",
      "\n",
      "[10  1]\n",
      "[[0 1]\n",
      " [2 3]]\n",
      "\n",
      "0\n",
      "[[0 0]\n",
      " [0 0]]\n"
     ]
    }
   ],
   "source": [
    "my_array = np.array([[0, 1], [2, 3]])\n",
    "view_array = my_array[0]\n",
    "view_array[0] = 10\n",
    "\n",
    "print(view_array)\n",
    "print(my_array)\n",
    "print()\n",
    "\n",
    "my_array = np.array([[0, 1], [2, 3]])\n",
    "copy_array = deepcopy(my_array[0])\n",
    "copy_array[0] = 10\n",
    "\n",
    "print(view_array)\n",
    "print(my_array)\n",
    "print()\n",
    "\n",
    "my_array = 0\n",
    "print(my_array)\n",
    "\n",
    "my_array = np.array([[0, 1], [2, 3]])\n",
    "my_array[:] = 0\n",
    "print(my_array)"
   ]
  }
 ],
 "metadata": {
  "kernelspec": {
   "display_name": "Python 3 (ipykernel)",
   "language": "python",
   "name": "python3"
  },
  "language_info": {
   "codemirror_mode": {
    "name": "ipython",
    "version": 3
   },
   "file_extension": ".py",
   "mimetype": "text/x-python",
   "name": "python",
   "nbconvert_exporter": "python",
   "pygments_lexer": "ipython3",
   "version": "3.10.8"
  }
 },
 "nbformat": 4,
 "nbformat_minor": 5
}
